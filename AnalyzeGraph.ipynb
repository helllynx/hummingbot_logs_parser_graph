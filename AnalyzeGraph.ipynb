{
 "cells": [
  {
   "cell_type": "markdown",
   "metadata": {},
   "source": [
    "# Hummingbot trades graph\n",
    "\n",
    "This notebook parse hummingbot logs and then plot sell and buy operations"
   ]
  },
  {
   "cell_type": "code",
   "execution_count": 1,
   "metadata": {},
   "outputs": [],
   "source": [
    "import plotly.graph_objects as go\n",
    "import pandas as pd\n",
    "from core.log_parser import log_parser\n",
    "import configparser\n",
    "from core.binance_client import Binance\n",
    "import plotly.io as pio\n",
    "pio.renderers.default = 'browser'"
   ]
  },
  {
   "cell_type": "markdown",
   "metadata": {},
   "source": [
    "Read API token and secret  from settings file"
   ]
  },
  {
   "cell_type": "code",
   "execution_count": 2,
   "metadata": {
    "pycharm": {
     "name": "#%%\n"
    }
   },
   "outputs": [],
   "source": [
    "config = configparser.ConfigParser()\n",
    "config.read(\"settings.ini\")\n",
    "\n",
    "api_key = config[\"Binance\"][\"api_key\"]\n",
    "secret = config[\"Binance\"][\"secret\"]\n",
    "\n",
    "binance = Binance(api_key, secret)"
   ]
  },
  {
   "cell_type": "markdown",
   "metadata": {},
   "source": [
    "Read logs from humming bot files directory"
   ]
  },
  {
   "cell_type": "code",
   "execution_count": 3,
   "metadata": {},
   "outputs": [],
   "source": [
    "symbol = 'ETHUSDT'"
   ]
  },
  {
   "cell_type": "code",
   "execution_count": 4,
   "metadata": {
    "pycharm": {
     "name": "#%%\n"
    }
   },
   "outputs": [],
   "source": [
    "bot_logs = log_parser(\"/home/helllynx/SSH/GERM/root/hummingbot-docker/hummingbot_files/hummingbot_logs/logs_conf_pure_mm_2_ping_pong.log\")\n",
    "\n",
    "ticks = binance.get_ticks(symbol, from_time=bot_logs.iloc[0].time, interval='5m')\n",
    "ticks = binance.klines_to_dataframe(ticks)\n",
    "ticks['Open time'] = pd.to_datetime(ticks['Open time'], unit='ms')\n",
    "ticks['Close time'] = pd.to_datetime(ticks['Close time'], unit='ms')\n",
    "ticks['Spread'] = ticks.apply(lambda row: row['High'] - row['Low'], axis=1)\n",
    "ticks['Spread Percentage'] = ticks.apply(lambda row: row['Spread']/row['Close'], axis=1)\n",
    "\n",
    "bot_logs['time'] = pd.to_datetime(bot_logs['time'])"
   ]
  },
  {
   "cell_type": "markdown",
   "metadata": {},
   "source": [
    "Plot graph"
   ]
  },
  {
   "cell_type": "code",
   "execution_count": 8,
   "metadata": {
    "pycharm": {
     "name": "#%%\n"
    }
   },
   "outputs": [],
   "source": [
    "buys = bot_logs[bot_logs['operation']=='buy']\n",
    "sells = bot_logs[bot_logs['operation']=='sell']\n",
    "\n",
    "fig = go.Figure(data=[go.Candlestick(\n",
    "                x=ticks['Open time'],\n",
    "                open=ticks['Open'],\n",
    "                high=ticks['High'],\n",
    "                low=ticks['Low'],\n",
    "                close=ticks['Close'])])\n",
    "fig.update_layout(xaxis_rangeslider_visible=False)\n",
    "\n",
    "\n",
    "fig.add_trace(go.Scatter(x=buys['time'], y=buys['value_quote'], mode='markers', marker_symbol='triangle-up', marker_color=\"lightskyblue\", marker_size=12, name = 'buy'))\n",
    "fig.add_trace(go.Scatter(x=sells['time'], y=sells['value_quote'], mode='markers',  marker_symbol='triangle-down', marker_color=\"midnightblue\", marker_size=12, name = 'sell'))\n",
    "fig.show()"
   ]
  },
  {
   "cell_type": "markdown",
   "metadata": {},
   "source": [
    "Calculate spread for each tick"
   ]
  },
  {
   "cell_type": "code",
   "execution_count": 6,
   "metadata": {},
   "outputs": [
    {
     "data": {
      "text/html": [
       "<div>\n",
       "<style scoped>\n",
       "    .dataframe tbody tr th:only-of-type {\n",
       "        vertical-align: middle;\n",
       "    }\n",
       "\n",
       "    .dataframe tbody tr th {\n",
       "        vertical-align: top;\n",
       "    }\n",
       "\n",
       "    .dataframe thead th {\n",
       "        text-align: right;\n",
       "    }\n",
       "</style>\n",
       "<table border=\"1\" class=\"dataframe\">\n",
       "  <thead>\n",
       "    <tr style=\"text-align: right;\">\n",
       "      <th></th>\n",
       "      <th>Open time</th>\n",
       "      <th>Open</th>\n",
       "      <th>High</th>\n",
       "      <th>Low</th>\n",
       "      <th>Close</th>\n",
       "      <th>Volume</th>\n",
       "      <th>Close time</th>\n",
       "      <th>Quote asset volume</th>\n",
       "      <th>Number of trades</th>\n",
       "      <th>Taker buy base asset volume</th>\n",
       "      <th>Taker buy quote asset volume</th>\n",
       "      <th>Ignore.</th>\n",
       "      <th>Spread</th>\n",
       "      <th>Spread Percentage</th>\n",
       "    </tr>\n",
       "  </thead>\n",
       "  <tbody>\n",
       "    <tr>\n",
       "      <th>0</th>\n",
       "      <td>2021-02-28 08:35:00</td>\n",
       "      <td>1362.19</td>\n",
       "      <td>1369.00</td>\n",
       "      <td>1361.54</td>\n",
       "      <td>1362.99</td>\n",
       "      <td>3587.53209</td>\n",
       "      <td>2021-02-28 08:39:59.999</td>\n",
       "      <td>4894158.02337090</td>\n",
       "      <td>3915</td>\n",
       "      <td>1953.44481000</td>\n",
       "      <td>2665108.50855000</td>\n",
       "      <td>0</td>\n",
       "      <td>7.46</td>\n",
       "      <td>0.005473</td>\n",
       "    </tr>\n",
       "    <tr>\n",
       "      <th>1</th>\n",
       "      <td>2021-02-28 08:40:00</td>\n",
       "      <td>1362.99</td>\n",
       "      <td>1365.06</td>\n",
       "      <td>1358.08</td>\n",
       "      <td>1363.25</td>\n",
       "      <td>3850.05332</td>\n",
       "      <td>2021-02-28 08:44:59.999</td>\n",
       "      <td>5241711.70750240</td>\n",
       "      <td>3262</td>\n",
       "      <td>1892.12793000</td>\n",
       "      <td>2576071.92110070</td>\n",
       "      <td>0</td>\n",
       "      <td>6.98</td>\n",
       "      <td>0.005120</td>\n",
       "    </tr>\n",
       "    <tr>\n",
       "      <th>2</th>\n",
       "      <td>2021-02-28 08:45:00</td>\n",
       "      <td>1363.08</td>\n",
       "      <td>1363.22</td>\n",
       "      <td>1355.41</td>\n",
       "      <td>1356.47</td>\n",
       "      <td>2721.39304</td>\n",
       "      <td>2021-02-28 08:49:59.999</td>\n",
       "      <td>3698501.50884180</td>\n",
       "      <td>2895</td>\n",
       "      <td>1330.05685000</td>\n",
       "      <td>1807673.11693650</td>\n",
       "      <td>0</td>\n",
       "      <td>7.81</td>\n",
       "      <td>0.005758</td>\n",
       "    </tr>\n",
       "    <tr>\n",
       "      <th>3</th>\n",
       "      <td>2021-02-28 08:50:00</td>\n",
       "      <td>1356.47</td>\n",
       "      <td>1358.93</td>\n",
       "      <td>1354.66</td>\n",
       "      <td>1358.13</td>\n",
       "      <td>2340.63395</td>\n",
       "      <td>2021-02-28 08:54:59.999</td>\n",
       "      <td>3175647.12505900</td>\n",
       "      <td>2719</td>\n",
       "      <td>1121.18305000</td>\n",
       "      <td>1521029.39745930</td>\n",
       "      <td>0</td>\n",
       "      <td>4.27</td>\n",
       "      <td>0.003144</td>\n",
       "    </tr>\n",
       "    <tr>\n",
       "      <th>4</th>\n",
       "      <td>2021-02-28 08:55:00</td>\n",
       "      <td>1358.07</td>\n",
       "      <td>1362.14</td>\n",
       "      <td>1356.25</td>\n",
       "      <td>1359.59</td>\n",
       "      <td>2871.84706</td>\n",
       "      <td>2021-02-28 08:59:59.999</td>\n",
       "      <td>3902097.50136000</td>\n",
       "      <td>2754</td>\n",
       "      <td>1447.15784000</td>\n",
       "      <td>1965975.20161380</td>\n",
       "      <td>0</td>\n",
       "      <td>5.89</td>\n",
       "      <td>0.004332</td>\n",
       "    </tr>\n",
       "  </tbody>\n",
       "</table>\n",
       "</div>"
      ],
      "text/plain": [
       "            Open time     Open     High      Low    Close      Volume  \\\n",
       "0 2021-02-28 08:35:00  1362.19  1369.00  1361.54  1362.99  3587.53209   \n",
       "1 2021-02-28 08:40:00  1362.99  1365.06  1358.08  1363.25  3850.05332   \n",
       "2 2021-02-28 08:45:00  1363.08  1363.22  1355.41  1356.47  2721.39304   \n",
       "3 2021-02-28 08:50:00  1356.47  1358.93  1354.66  1358.13  2340.63395   \n",
       "4 2021-02-28 08:55:00  1358.07  1362.14  1356.25  1359.59  2871.84706   \n",
       "\n",
       "               Close time Quote asset volume  Number of trades  \\\n",
       "0 2021-02-28 08:39:59.999   4894158.02337090              3915   \n",
       "1 2021-02-28 08:44:59.999   5241711.70750240              3262   \n",
       "2 2021-02-28 08:49:59.999   3698501.50884180              2895   \n",
       "3 2021-02-28 08:54:59.999   3175647.12505900              2719   \n",
       "4 2021-02-28 08:59:59.999   3902097.50136000              2754   \n",
       "\n",
       "  Taker buy base asset volume Taker buy quote asset volume Ignore.  Spread  \\\n",
       "0               1953.44481000             2665108.50855000       0    7.46   \n",
       "1               1892.12793000             2576071.92110070       0    6.98   \n",
       "2               1330.05685000             1807673.11693650       0    7.81   \n",
       "3               1121.18305000             1521029.39745930       0    4.27   \n",
       "4               1447.15784000             1965975.20161380       0    5.89   \n",
       "\n",
       "   Spread Percentage  \n",
       "0           0.005473  \n",
       "1           0.005120  \n",
       "2           0.005758  \n",
       "3           0.003144  \n",
       "4           0.004332  "
      ]
     },
     "execution_count": 6,
     "metadata": {},
     "output_type": "execute_result"
    }
   ],
   "source": [
    "ticks.head()"
   ]
  },
  {
   "cell_type": "code",
   "execution_count": 7,
   "metadata": {},
   "outputs": [
    {
     "data": {
      "text/html": [
       "<div>\n",
       "<style scoped>\n",
       "    .dataframe tbody tr th:only-of-type {\n",
       "        vertical-align: middle;\n",
       "    }\n",
       "\n",
       "    .dataframe tbody tr th {\n",
       "        vertical-align: top;\n",
       "    }\n",
       "\n",
       "    .dataframe thead th {\n",
       "        text-align: right;\n",
       "    }\n",
       "</style>\n",
       "<table border=\"1\" class=\"dataframe\">\n",
       "  <thead>\n",
       "    <tr style=\"text-align: right;\">\n",
       "      <th></th>\n",
       "      <th>time</th>\n",
       "      <th>operation</th>\n",
       "      <th>base</th>\n",
       "      <th>value_base</th>\n",
       "      <th>quote</th>\n",
       "      <th>value_quote</th>\n",
       "    </tr>\n",
       "  </thead>\n",
       "  <tbody>\n",
       "    <tr>\n",
       "      <th>0</th>\n",
       "      <td>2021-02-28 08:32:39+00:00</td>\n",
       "      <td>buy</td>\n",
       "      <td>ETH</td>\n",
       "      <td>0.1</td>\n",
       "      <td>USDT</td>\n",
       "      <td>1365.623</td>\n",
       "    </tr>\n",
       "    <tr>\n",
       "      <th>1</th>\n",
       "      <td>2021-02-28 09:02:07+00:00</td>\n",
       "      <td>sell</td>\n",
       "      <td>ETH</td>\n",
       "      <td>0.1</td>\n",
       "      <td>USDT</td>\n",
       "      <td>1364.604</td>\n",
       "    </tr>\n",
       "  </tbody>\n",
       "</table>\n",
       "</div>"
      ],
      "text/plain": [
       "                       time operation base  value_base quote  value_quote\n",
       "0 2021-02-28 08:32:39+00:00       buy  ETH         0.1  USDT     1365.623\n",
       "1 2021-02-28 09:02:07+00:00      sell  ETH         0.1  USDT     1364.604"
      ]
     },
     "execution_count": 7,
     "metadata": {},
     "output_type": "execute_result"
    }
   ],
   "source": [
    "bot_logs.head()"
   ]
  }
 ],
 "metadata": {
  "kernelspec": {
   "display_name": "Python 3",
   "language": "python",
   "name": "python3"
  },
  "language_info": {
   "codemirror_mode": {
    "name": "ipython",
    "version": 3
   },
   "file_extension": ".py",
   "mimetype": "text/x-python",
   "name": "python",
   "nbconvert_exporter": "python",
   "pygments_lexer": "ipython3",
   "version": "3.9.1"
  }
 },
 "nbformat": 4,
 "nbformat_minor": 1
}